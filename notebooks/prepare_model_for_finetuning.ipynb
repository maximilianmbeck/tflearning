{
 "cells": [
  {
   "cell_type": "code",
   "execution_count": 1,
   "metadata": {},
   "outputs": [],
   "source": [
    "%load_ext autoreload\n",
    "%autoreload 2\n",
    "import torch\n",
    "import timm\n",
    "from tflearning.finetune_utils import prepare_model_for_finetuning"
   ]
  },
  {
   "cell_type": "code",
   "execution_count": 2,
   "metadata": {},
   "outputs": [],
   "source": [
    "m = timm.create_model('resnet18', pretrained=False)"
   ]
  },
  {
   "cell_type": "code",
   "execution_count": 3,
   "metadata": {},
   "outputs": [],
   "source": [
    "layer_names =  ['layer1.0.act2','layer1.1.act2','layer2.0.act2','layer2.1.act2','layer3.0.act2','layer3.1.act2','layer4.0.act2','layer4.1.act2','act1']"
   ]
  },
  {
   "cell_type": "code",
   "execution_count": 4,
   "metadata": {},
   "outputs": [],
   "source": [
    "# for name, mod in m.named_modules():\n",
    "#     print(name)"
   ]
  },
  {
   "cell_type": "code",
   "execution_count": 11,
   "metadata": {},
   "outputs": [],
   "source": [
    "m = prepare_model_for_finetuning(m, layer_names[-1], 10)"
   ]
  },
  {
   "cell_type": "code",
   "execution_count": 12,
   "metadata": {},
   "outputs": [
    {
     "name": "stdout",
     "output_type": "stream",
     "text": [
      "conv1.weight False\n",
      "bn1.weight False\n",
      "bn1.bias False\n",
      "layer1.0.conv1.weight True\n",
      "layer1.0.bn1.weight True\n",
      "layer1.0.bn1.bias True\n",
      "layer1.0.conv2.weight True\n",
      "layer1.0.bn2.weight True\n",
      "layer1.0.bn2.bias True\n",
      "layer1.1.conv1.weight True\n",
      "layer1.1.bn1.weight True\n",
      "layer1.1.bn1.bias True\n",
      "layer1.1.conv2.weight True\n",
      "layer1.1.bn2.weight True\n",
      "layer1.1.bn2.bias True\n",
      "layer2.0.conv1.weight True\n",
      "layer2.0.bn1.weight True\n",
      "layer2.0.bn1.bias True\n",
      "layer2.0.conv2.weight True\n",
      "layer2.0.bn2.weight True\n",
      "layer2.0.bn2.bias True\n",
      "layer2.0.downsample.0.weight True\n",
      "layer2.0.downsample.1.weight True\n",
      "layer2.0.downsample.1.bias True\n",
      "layer2.1.conv1.weight True\n",
      "layer2.1.bn1.weight True\n",
      "layer2.1.bn1.bias True\n",
      "layer2.1.conv2.weight True\n",
      "layer2.1.bn2.weight True\n",
      "layer2.1.bn2.bias True\n",
      "layer3.0.conv1.weight True\n",
      "layer3.0.bn1.weight True\n",
      "layer3.0.bn1.bias True\n",
      "layer3.0.conv2.weight True\n",
      "layer3.0.bn2.weight True\n",
      "layer3.0.bn2.bias True\n",
      "layer3.0.downsample.0.weight True\n",
      "layer3.0.downsample.1.weight True\n",
      "layer3.0.downsample.1.bias True\n",
      "layer3.1.conv1.weight True\n",
      "layer3.1.bn1.weight True\n",
      "layer3.1.bn1.bias True\n",
      "layer3.1.conv2.weight True\n",
      "layer3.1.bn2.weight True\n",
      "layer3.1.bn2.bias True\n",
      "layer4.0.conv1.weight True\n",
      "layer4.0.bn1.weight True\n",
      "layer4.0.bn1.bias True\n",
      "layer4.0.conv2.weight True\n",
      "layer4.0.bn2.weight True\n",
      "layer4.0.bn2.bias True\n",
      "layer4.0.downsample.0.weight True\n",
      "layer4.0.downsample.1.weight True\n",
      "layer4.0.downsample.1.bias True\n",
      "layer4.1.conv1.weight True\n",
      "layer4.1.bn1.weight True\n",
      "layer4.1.bn1.bias True\n",
      "layer4.1.conv2.weight True\n",
      "layer4.1.bn2.weight True\n",
      "layer4.1.bn2.bias True\n",
      "fc.weight True\n",
      "fc.bias True\n"
     ]
    }
   ],
   "source": [
    "for name, param in m.named_parameters():\n",
    "    print(name, param.requires_grad)"
   ]
  },
  {
   "cell_type": "code",
   "execution_count": 8,
   "metadata": {},
   "outputs": [],
   "source": [
    "mlist = list(m.named_modules())"
   ]
  },
  {
   "cell_type": "code",
   "execution_count": 9,
   "metadata": {},
   "outputs": [],
   "source": [
    "name, layer = mlist[-1]"
   ]
  },
  {
   "cell_type": "code",
   "execution_count": 10,
   "metadata": {},
   "outputs": [
    {
     "data": {
      "text/plain": [
       "Linear(in_features=512, out_features=10, bias=True)"
      ]
     },
     "execution_count": 10,
     "metadata": {},
     "output_type": "execute_result"
    }
   ],
   "source": [
    "layer"
   ]
  },
  {
   "cell_type": "code",
   "execution_count": null,
   "metadata": {},
   "outputs": [],
   "source": []
  }
 ],
 "metadata": {
  "kernelspec": {
   "display_name": "subspaces",
   "language": "python",
   "name": "python3"
  },
  "language_info": {
   "codemirror_mode": {
    "name": "ipython",
    "version": 3
   },
   "file_extension": ".py",
   "mimetype": "text/x-python",
   "name": "python",
   "nbconvert_exporter": "python",
   "pygments_lexer": "ipython3",
   "version": "3.10.4"
  },
  "orig_nbformat": 4,
  "vscode": {
   "interpreter": {
    "hash": "ac019f01eb2a0970f066d5e193a84f30bb43215eeeface9d3d8db32241c79700"
   }
  }
 },
 "nbformat": 4,
 "nbformat_minor": 2
}
