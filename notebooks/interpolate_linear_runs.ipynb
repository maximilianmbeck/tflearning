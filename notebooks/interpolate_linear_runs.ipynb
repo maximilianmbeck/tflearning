{
 "cells": [
  {
   "cell_type": "code",
   "execution_count": 1,
   "metadata": {},
   "outputs": [],
   "source": [
    "%load_ext autoreload\n",
    "%autoreload 2\n",
    "import torch\n",
    "import numpy as np\n",
    "import pandas as pd\n",
    "from omegaconf import OmegaConf\n",
    "from pathlib import Path\n",
    "from pprint import pprint\n",
    "\n",
    "# mycode\n",
    "from ml_utilities.output_loader.result_loader import SweepResult, JobResult\n",
    "from tflearning.mode_connectivity.linear_interpolation import interpolate_linear_runs\n",
    "from ml_utilities.torch_utils.metrics import TError\n",
    "from ml_utilities.torch_utils import copy_model_to_cpu\n",
    "from ml_utilities.data.datasetgenerator import DatasetGenerator"
   ]
  },
  {
   "cell_type": "code",
   "execution_count": 2,
   "metadata": {},
   "outputs": [
    {
     "data": {
      "text/html": [
       "<div>\n",
       "<style scoped>\n",
       "    .dataframe tbody tr th:only-of-type {\n",
       "        vertical-align: middle;\n",
       "    }\n",
       "\n",
       "    .dataframe tbody tr th {\n",
       "        vertical-align: top;\n",
       "    }\n",
       "\n",
       "    .dataframe thead th {\n",
       "        text-align: right;\n",
       "    }\n",
       "</style>\n",
       "<table border=\"1\" class=\"dataframe\">\n",
       "  <thead>\n",
       "    <tr style=\"text-align: right;\">\n",
       "      <th></th>\n",
       "      <th>best_train_step</th>\n",
       "      <th>best_val_score</th>\n",
       "      <th>seed</th>\n",
       "    </tr>\n",
       "  </thead>\n",
       "  <tbody>\n",
       "    <tr>\n",
       "      <th>IA-A-cifar10-17.2.1-resnet-B--230120_134950</th>\n",
       "      <td>44500</td>\n",
       "      <td>0.9166</td>\n",
       "      <td>0</td>\n",
       "    </tr>\n",
       "  </tbody>\n",
       "</table>\n",
       "</div>"
      ],
      "text/plain": [
       "                                             best_train_step  best_val_score  \\\n",
       "IA-A-cifar10-17.2.1-resnet-B--230120_134950            44500          0.9166   \n",
       "\n",
       "                                             seed  \n",
       "IA-A-cifar10-17.2.1-resnet-B--230120_134950     0  "
      ]
     },
     "execution_count": 2,
     "metadata": {},
     "output_type": "execute_result"
    }
   ],
   "source": [
    "run_0 = JobResult('/system/user/beck/pwbeck/projects/regularization/tflearning/outputs/IA-A-cifar10-17.2.1-resnet-B--230120_134950')\n",
    "run_0.get_summary()"
   ]
  },
  {
   "cell_type": "code",
   "execution_count": 3,
   "metadata": {},
   "outputs": [
    {
     "data": {
      "text/plain": [
       "89"
      ]
     },
     "execution_count": 3,
     "metadata": {},
     "output_type": "execute_result"
    }
   ],
   "source": [
    "run_0.get_data_log('val')['Accuracy'].argmax()"
   ]
  },
  {
   "cell_type": "code",
   "execution_count": 4,
   "metadata": {},
   "outputs": [
    {
     "data": {
      "text/plain": [
       "log_step      89449.000000\n",
       "loss              0.371612\n",
       "Accuracy          0.916600\n",
       "epoch           127.000000\n",
       "train_step    44500.000000\n",
       "Name: 89, dtype: float64"
      ]
     },
     "execution_count": 4,
     "metadata": {},
     "output_type": "execute_result"
    }
   ],
   "source": [
    "run_0.get_data_log('val').iloc[89,:]"
   ]
  },
  {
   "cell_type": "code",
   "execution_count": 6,
   "metadata": {},
   "outputs": [
    {
     "data": {
      "text/html": [
       "<div>\n",
       "<style scoped>\n",
       "    .dataframe tbody tr th:only-of-type {\n",
       "        vertical-align: middle;\n",
       "    }\n",
       "\n",
       "    .dataframe tbody tr th {\n",
       "        vertical-align: top;\n",
       "    }\n",
       "\n",
       "    .dataframe thead th {\n",
       "        text-align: right;\n",
       "    }\n",
       "</style>\n",
       "<table border=\"1\" class=\"dataframe\">\n",
       "  <thead>\n",
       "    <tr style=\"text-align: right;\">\n",
       "      <th></th>\n",
       "      <th>best_train_step</th>\n",
       "      <th>best_val_score</th>\n",
       "      <th>trainer.resume_training.checkpoint_idx</th>\n",
       "      <th>seed</th>\n",
       "    </tr>\n",
       "  </thead>\n",
       "  <tbody>\n",
       "    <tr>\n",
       "      <th>IA-B-cifar10-17.2.1-resnet-B--checkpoint_idx-0-seed-1--230120_161833</th>\n",
       "      <td>64000</td>\n",
       "      <td>0.9134</td>\n",
       "      <td>0</td>\n",
       "      <td>1</td>\n",
       "    </tr>\n",
       "  </tbody>\n",
       "</table>\n",
       "</div>"
      ],
      "text/plain": [
       "                                                    best_train_step  \\\n",
       "IA-B-cifar10-17.2.1-resnet-B--checkpoint_idx-0-...            64000   \n",
       "\n",
       "                                                    best_val_score  \\\n",
       "IA-B-cifar10-17.2.1-resnet-B--checkpoint_idx-0-...          0.9134   \n",
       "\n",
       "                                                    trainer.resume_training.checkpoint_idx  \\\n",
       "IA-B-cifar10-17.2.1-resnet-B--checkpoint_idx-0-...                                       0   \n",
       "\n",
       "                                                    seed  \n",
       "IA-B-cifar10-17.2.1-resnet-B--checkpoint_idx-0-...     1  "
      ]
     },
     "execution_count": 6,
     "metadata": {},
     "output_type": "execute_result"
    }
   ],
   "source": [
    "run_1 = JobResult('/system/user/beck/pwbeck/projects/regularization/tflearning/outputs/IA-B-cifar10-17.2.1-resnet-B--230120_141533/outputs/IA-B-cifar10-17.2.1-resnet-B--checkpoint_idx-0-seed-1--230120_161833')\n",
    "run_1.get_summary()"
   ]
  },
  {
   "cell_type": "code",
   "execution_count": 7,
   "metadata": {},
   "outputs": [],
   "source": [
    "data_cfg = \"\"\"\n",
    "data:\n",
    "  dataset: cifar10\n",
    "  dataset_kwargs:\n",
    "    data_root_path: /system/user/beck/pwbeck/data\n",
    "  dataset_split:\n",
    "    train_val_split: 0.9\n",
    "    # restrict_n_samples_train_task: 10000\n",
    "  # train_split_transforms:\n",
    "    # image_transforms:\n",
    "    # - RandomHorizontalFlip\n",
    "    # - RandomCrop:\n",
    "    #     size: 32\n",
    "    #     padding: 4\n",
    "    # tensor_transforms: \n",
    "    # joint_tensor_transforms: \n",
    "    # enable_transforms: True\n",
    "\"\"\"\n",
    "data_cfg = OmegaConf.create(data_cfg)"
   ]
  },
  {
   "cell_type": "code",
   "execution_count": 8,
   "metadata": {},
   "outputs": [
    {
     "name": "stdout",
     "output_type": "stream",
     "text": [
      "Files already downloaded and verified\n"
     ]
    }
   ],
   "source": [
    "datagen = DatasetGenerator(**data_cfg.data)\n",
    "datagen.generate_dataset()"
   ]
  },
  {
   "cell_type": "code",
   "execution_count": 9,
   "metadata": {},
   "outputs": [],
   "source": [
    "# ret = interpolate_linear_runs(run_0, run_1, score_fn=TError(), model_idx=[-2])"
   ]
  },
  {
   "cell_type": "code",
   "execution_count": 10,
   "metadata": {},
   "outputs": [],
   "source": [
    "# ret = interpolate_linear_runs(run_0, run_1, score_fn=TError(), interpolation_factors=[0.0, 1.0],model_idx=[16000,-1, -2], dataset_generator=datagen)"
   ]
  },
  {
   "cell_type": "code",
   "execution_count": 11,
   "metadata": {},
   "outputs": [],
   "source": [
    "# ret[0]"
   ]
  },
  {
   "cell_type": "code",
   "execution_count": 12,
   "metadata": {},
   "outputs": [
    {
     "data": {
      "text/plain": [
       "(64001, 44500)"
      ]
     },
     "execution_count": 12,
     "metadata": {},
     "output_type": "execute_result"
    }
   ],
   "source": [
    "run_0.highest_model_idx, run_0.best_model_idx"
   ]
  },
  {
   "cell_type": "code",
   "execution_count": 13,
   "metadata": {},
   "outputs": [
    {
     "data": {
      "text/plain": [
       "(64001, 64000)"
      ]
     },
     "execution_count": 13,
     "metadata": {},
     "output_type": "execute_result"
    }
   ],
   "source": [
    "run_1.highest_model_idx, run_1.best_model_idx"
   ]
  },
  {
   "cell_type": "code",
   "execution_count": null,
   "metadata": {},
   "outputs": [],
   "source": []
  }
 ],
 "metadata": {
  "kernelspec": {
   "display_name": "subspaces",
   "language": "python",
   "name": "python3"
  },
  "language_info": {
   "codemirror_mode": {
    "name": "ipython",
    "version": 3
   },
   "file_extension": ".py",
   "mimetype": "text/x-python",
   "name": "python",
   "nbconvert_exporter": "python",
   "pygments_lexer": "ipython3",
   "version": "3.10.4"
  },
  "orig_nbformat": 4,
  "vscode": {
   "interpreter": {
    "hash": "ac019f01eb2a0970f066d5e193a84f30bb43215eeeface9d3d8db32241c79700"
   }
  }
 },
 "nbformat": 4,
 "nbformat_minor": 2
}
