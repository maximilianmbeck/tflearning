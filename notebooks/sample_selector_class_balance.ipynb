{
 "cells": [
  {
   "cell_type": "code",
   "execution_count": 1,
   "metadata": {},
   "outputs": [],
   "source": [
    "%load_ext autoreload\n",
    "%autoreload 2\n",
    "from pathlib import Path\n",
    "import pickle\n",
    "from tflearning.data.creator import create_datasetgenerator, DataConfig\n",
    "import numpy as np\n",
    "from omegaconf import OmegaConf\n",
    "from dacite import from_dict\n",
    "from ml_utilities.data.data_utils import show_image_grid, show_images\n",
    "import pandas as pd\n",
    "from tflearning.data.sample_selectors import count_samples_per_class"
   ]
  },
  {
   "cell_type": "code",
   "execution_count": 2,
   "metadata": {},
   "outputs": [],
   "source": [
    "flowers_path = Path('/system/user/beck/pwbeck/projects/regularization/tflearning/outputs_scripts/prediction_depth/PD-flowers102-resnet18--230317_153444/prediction_depth_results.p')\n",
    "cifar10_path = Path('/system/user/beck/pwbeck/projects/regularization/tflearning/outputs_scripts/prediction_depth/PD-cifar10_resnet18-pretrained--230317_124927/prediction_depth_results.p')"
   ]
  },
  {
   "cell_type": "code",
   "execution_count": 3,
   "metadata": {},
   "outputs": [],
   "source": [
    "def load_dict(file):\n",
    "    with open(file, 'rb') as f:\n",
    "        return pickle.load(f)"
   ]
  },
  {
   "cell_type": "code",
   "execution_count": 4,
   "metadata": {},
   "outputs": [
    {
     "data": {
      "text/plain": [
       "dict_keys(['layer_accs', 'pred_depths', 'layer_preds', 'labels', 'num_classes', 'entropies'])"
      ]
     },
     "execution_count": 4,
     "metadata": {},
     "output_type": "execute_result"
    }
   ],
   "source": [
    "cf_dict = load_dict(cifar10_path)\n",
    "cf_dict['train'].keys()"
   ]
  },
  {
   "cell_type": "code",
   "execution_count": 5,
   "metadata": {},
   "outputs": [
    {
     "data": {
      "text/plain": [
       "((50000,), (50000,))"
      ]
     },
     "execution_count": 5,
     "metadata": {},
     "output_type": "execute_result"
    }
   ],
   "source": [
    "# create a pandas dataframe from the dictionary\n",
    "cf_dict['train']['labels'].shape, cf_dict['train']['entropies'].shape"
   ]
  },
  {
   "cell_type": "code",
   "execution_count": 18,
   "metadata": {},
   "outputs": [],
   "source": [
    "cf_labels_entr = np.stack([cf_dict['train']['entropies'], cf_dict['train']['labels']], axis=1)"
   ]
  },
  {
   "cell_type": "code",
   "execution_count": 21,
   "metadata": {},
   "outputs": [
    {
     "data": {
      "text/html": [
       "<div>\n",
       "<style scoped>\n",
       "    .dataframe tbody tr th:only-of-type {\n",
       "        vertical-align: middle;\n",
       "    }\n",
       "\n",
       "    .dataframe tbody tr th {\n",
       "        vertical-align: top;\n",
       "    }\n",
       "\n",
       "    .dataframe thead th {\n",
       "        text-align: right;\n",
       "    }\n",
       "</style>\n",
       "<table border=\"1\" class=\"dataframe\">\n",
       "  <thead>\n",
       "    <tr style=\"text-align: right;\">\n",
       "      <th></th>\n",
       "      <th>entropy</th>\n",
       "      <th>label</th>\n",
       "    </tr>\n",
       "  </thead>\n",
       "  <tbody>\n",
       "    <tr>\n",
       "      <th>0</th>\n",
       "      <td>1.310784</td>\n",
       "      <td>6.0</td>\n",
       "    </tr>\n",
       "    <tr>\n",
       "      <th>1</th>\n",
       "      <td>1.581094</td>\n",
       "      <td>9.0</td>\n",
       "    </tr>\n",
       "    <tr>\n",
       "      <th>2</th>\n",
       "      <td>0.686962</td>\n",
       "      <td>9.0</td>\n",
       "    </tr>\n",
       "    <tr>\n",
       "      <th>3</th>\n",
       "      <td>1.149060</td>\n",
       "      <td>4.0</td>\n",
       "    </tr>\n",
       "    <tr>\n",
       "      <th>4</th>\n",
       "      <td>1.214890</td>\n",
       "      <td>1.0</td>\n",
       "    </tr>\n",
       "  </tbody>\n",
       "</table>\n",
       "</div>"
      ],
      "text/plain": [
       "    entropy  label\n",
       "0  1.310784    6.0\n",
       "1  1.581094    9.0\n",
       "2  0.686962    9.0\n",
       "3  1.149060    4.0\n",
       "4  1.214890    1.0"
      ]
     },
     "execution_count": 21,
     "metadata": {},
     "output_type": "execute_result"
    }
   ],
   "source": [
    "entr_labels_df = pd.DataFrame(cf_labels_entr, columns=['entropy', 'label'])\n",
    "entr_labels_df.head()"
   ]
  },
  {
   "cell_type": "code",
   "execution_count": 36,
   "metadata": {},
   "outputs": [
    {
     "data": {
      "text/html": [
       "<div>\n",
       "<style scoped>\n",
       "    .dataframe tbody tr th:only-of-type {\n",
       "        vertical-align: middle;\n",
       "    }\n",
       "\n",
       "    .dataframe tbody tr th {\n",
       "        vertical-align: top;\n",
       "    }\n",
       "\n",
       "    .dataframe thead th {\n",
       "        text-align: right;\n",
       "    }\n",
       "</style>\n",
       "<table border=\"1\" class=\"dataframe\">\n",
       "  <thead>\n",
       "    <tr style=\"text-align: right;\">\n",
       "      <th>label</th>\n",
       "      <th>0.0</th>\n",
       "      <th>1.0</th>\n",
       "      <th>2.0</th>\n",
       "      <th>3.0</th>\n",
       "      <th>4.0</th>\n",
       "      <th>5.0</th>\n",
       "      <th>6.0</th>\n",
       "      <th>7.0</th>\n",
       "      <th>8.0</th>\n",
       "      <th>9.0</th>\n",
       "    </tr>\n",
       "  </thead>\n",
       "  <tbody>\n",
       "    <tr>\n",
       "      <th>0</th>\n",
       "      <td>NaN</td>\n",
       "      <td>NaN</td>\n",
       "      <td>NaN</td>\n",
       "      <td>NaN</td>\n",
       "      <td>NaN</td>\n",
       "      <td>NaN</td>\n",
       "      <td>1.310784</td>\n",
       "      <td>NaN</td>\n",
       "      <td>NaN</td>\n",
       "      <td>NaN</td>\n",
       "    </tr>\n",
       "    <tr>\n",
       "      <th>1</th>\n",
       "      <td>NaN</td>\n",
       "      <td>NaN</td>\n",
       "      <td>NaN</td>\n",
       "      <td>NaN</td>\n",
       "      <td>NaN</td>\n",
       "      <td>NaN</td>\n",
       "      <td>NaN</td>\n",
       "      <td>NaN</td>\n",
       "      <td>NaN</td>\n",
       "      <td>1.581094</td>\n",
       "    </tr>\n",
       "    <tr>\n",
       "      <th>2</th>\n",
       "      <td>NaN</td>\n",
       "      <td>NaN</td>\n",
       "      <td>NaN</td>\n",
       "      <td>NaN</td>\n",
       "      <td>NaN</td>\n",
       "      <td>NaN</td>\n",
       "      <td>NaN</td>\n",
       "      <td>NaN</td>\n",
       "      <td>NaN</td>\n",
       "      <td>0.686962</td>\n",
       "    </tr>\n",
       "    <tr>\n",
       "      <th>3</th>\n",
       "      <td>NaN</td>\n",
       "      <td>NaN</td>\n",
       "      <td>NaN</td>\n",
       "      <td>NaN</td>\n",
       "      <td>1.14906</td>\n",
       "      <td>NaN</td>\n",
       "      <td>NaN</td>\n",
       "      <td>NaN</td>\n",
       "      <td>NaN</td>\n",
       "      <td>NaN</td>\n",
       "    </tr>\n",
       "    <tr>\n",
       "      <th>4</th>\n",
       "      <td>NaN</td>\n",
       "      <td>1.21489</td>\n",
       "      <td>NaN</td>\n",
       "      <td>NaN</td>\n",
       "      <td>NaN</td>\n",
       "      <td>NaN</td>\n",
       "      <td>NaN</td>\n",
       "      <td>NaN</td>\n",
       "      <td>NaN</td>\n",
       "      <td>NaN</td>\n",
       "    </tr>\n",
       "  </tbody>\n",
       "</table>\n",
       "</div>"
      ],
      "text/plain": [
       "label  0.0      1.0  2.0  3.0      4.0  5.0       6.0  7.0  8.0       9.0\n",
       "0      NaN      NaN  NaN  NaN      NaN  NaN  1.310784  NaN  NaN       NaN\n",
       "1      NaN      NaN  NaN  NaN      NaN  NaN       NaN  NaN  NaN  1.581094\n",
       "2      NaN      NaN  NaN  NaN      NaN  NaN       NaN  NaN  NaN  0.686962\n",
       "3      NaN      NaN  NaN  NaN  1.14906  NaN       NaN  NaN  NaN       NaN\n",
       "4      NaN  1.21489  NaN  NaN      NaN  NaN       NaN  NaN  NaN       NaN"
      ]
     },
     "execution_count": 36,
     "metadata": {},
     "output_type": "execute_result"
    }
   ],
   "source": [
    "label_sorted_entr = entr_labels_df.pivot(columns='label', values='entropy')\n",
    "label_sorted_entr.head()"
   ]
  },
  {
   "cell_type": "code",
   "execution_count": 41,
   "metadata": {},
   "outputs": [
    {
     "data": {
      "image/png": "[encoded data removed]",
      "text/plain": [
       "<Figure size 708.661x1259.84 with 10 Axes>"
      ]
     },
     "metadata": {},
     "output_type": "display_data"
    }
   ],
   "source": [
    "figs = label_sorted_entr.hist(bins=20, layout=(5,2), figsize=(1.5 * 12 * 1 / 2.54, 4 * 8 * 1 / 2.54))"
   ]
  },
  {
   "cell_type": "code",
   "execution_count": 46,
   "metadata": {},
   "outputs": [
    {
     "data": {
      "text/plain": [
       "29       0.529706\n",
       "30       0.936888\n",
       "35       1.149060\n",
       "49       1.273028\n",
       "77       1.522955\n",
       "           ...   \n",
       "49921    0.936888\n",
       "49930    1.310784\n",
       "49941    1.522955\n",
       "49992    1.149060\n",
       "49994    0.964963\n",
       "Name: 0.0, Length: 5000, dtype: float64"
      ]
     },
     "execution_count": 46,
     "metadata": {},
     "output_type": "execute_result"
    }
   ],
   "source": [
    "label_sorted_entr[~label_sorted_entr[0.0].isnull()][0.0]"
   ]
  },
  {
   "cell_type": "code",
   "execution_count": 12,
   "metadata": {},
   "outputs": [],
   "source": [
    "from typing import Dict\n",
    "\n",
    "def get_class_sorted_entropy_array(entropies: np.ndarray, class_idxes: np.ndarray) -> Dict[int, pd.Series]:\n",
    "    \"\"\"Get entropies split by class idxes.\n",
    "    \"\"\"\n",
    "    assert len(entropies) == len(class_idxes), f'entropies and class_labels must have same length, but are {len(entropies)} and {len(class_idxes)}'\n",
    "    cf_labels_entropy = np.stack([entropies, class_idxes], axis=1)\n",
    "    entr_labels_df = pd.DataFrame(cf_labels_entropy, columns=['entropy', 'label'])\n",
    "    entropies_per_label_df = entr_labels_df.pivot(columns='label', values='entropy')\n",
    "    class_sorted_entropy_arrays = {}\n",
    "    for c in entropies_per_label_df.columns:\n",
    "        class_idx = int(c)\n",
    "        class_sorted_entropy_arrays[class_idx] = entropies_per_label_df[~entropies_per_label_df[c].isnull()][c]\n",
    "    return class_sorted_entropy_arrays"
   ]
  },
  {
   "cell_type": "code",
   "execution_count": 57,
   "metadata": {},
   "outputs": [],
   "source": [
    "cls_sorted_entropy_arrays = get_class_sorted_entropy_array(cf_dict['train']['entropies'], cf_dict['train']['labels'])"
   ]
  },
  {
   "cell_type": "code",
   "execution_count": 67,
   "metadata": {},
   "outputs": [
    {
     "data": {
      "text/plain": [
       "Int64Index([ 6260, 45233, 32232, 40143,  2622,  7998, 22317,  5323, 40432,\n",
       "             3102,\n",
       "            ...\n",
       "            25853, 32483, 48587, 26178,  6947,  1178, 31593, 18768, 18697,\n",
       "            28865],\n",
       "           dtype='int64', length=5000)"
      ]
     },
     "execution_count": 67,
     "metadata": {},
     "output_type": "execute_result"
    }
   ],
   "source": [
    "cls_sorted_entropy_arrays[0].sort_values(ascending=False).index[:6000]"
   ]
  },
  {
   "cell_type": "code",
   "execution_count": 60,
   "metadata": {},
   "outputs": [],
   "source": [
    "fraction = 0.2\n",
    "\n",
    "total_num_samples = len(cf_dict['train']['entropies'])\n",
    "num_classes = len(cls_sorted_entropy_arrays)"
   ]
  },
  {
   "cell_type": "code",
   "execution_count": 63,
   "metadata": {},
   "outputs": [
    {
     "data": {
      "text/plain": [
       "1000"
      ]
     },
     "execution_count": 63,
     "metadata": {},
     "output_type": "execute_result"
    }
   ],
   "source": [
    "samples_per_class = int(fraction * total_num_samples / num_classes)\n",
    "samples_per_class"
   ]
  },
  {
   "cell_type": "code",
   "execution_count": 10,
   "metadata": {},
   "outputs": [
    {
     "name": "stderr",
     "output_type": "stream",
     "text": [
      "/system/apps/userenv/beck/subspaces/lib/python3.10/site-packages/torchvision/transforms/transforms.py:332: UserWarning: Argument 'interpolation' of type int is deprecated since 0.13 and will be removed in 0.15. Please use InterpolationMode enum.\n",
      "  warnings.warn(\n"
     ]
    },
    {
     "name": "stdout",
     "output_type": "stream",
     "text": [
      "Files already downloaded and verified\n",
      "Files already downloaded and verified\n"
     ]
    },
    {
     "ename": "TypeError",
     "evalue": "only integer tensors of a single element can be converted to an index",
     "output_type": "error",
     "traceback": [
      "\u001b[0;31m---------------------------------------------------------------------------\u001b[0m",
      "\u001b[0;31mTypeError\u001b[0m                                 Traceback (most recent call last)",
      "\u001b[1;32m/system/user/beck/pwbeck/projects/regularization/tflearning/notebooks/sample_selector_class_balance.ipynb Cell 16\u001b[0m in \u001b[0;36m<cell line: 18>\u001b[0;34m()\u001b[0m\n\u001b[1;32m     <a href='vscode-notebook-cell://ssh-remote%2Bdragonfly/system/user/beck/pwbeck/projects/regularization/tflearning/notebooks/sample_selector_class_balance.ipynb#X21sdnNjb2RlLXJlbW90ZQ%3D%3D?line=15'>16</a>\u001b[0m data_cfg \u001b[39m=\u001b[39m from_dict(data\u001b[39m=\u001b[39mOmegaConf\u001b[39m.\u001b[39mto_container(data_cfg\u001b[39m.\u001b[39mdata), data_class\u001b[39m=\u001b[39mDataConfig)\n\u001b[1;32m     <a href='vscode-notebook-cell://ssh-remote%2Bdragonfly/system/user/beck/pwbeck/projects/regularization/tflearning/notebooks/sample_selector_class_balance.ipynb#X21sdnNjb2RlLXJlbW90ZQ%3D%3D?line=16'>17</a>\u001b[0m dsgen_cf10 \u001b[39m=\u001b[39m create_datasetgenerator(data_cfg\u001b[39m=\u001b[39mdata_cfg)\n\u001b[0;32m---> <a href='vscode-notebook-cell://ssh-remote%2Bdragonfly/system/user/beck/pwbeck/projects/regularization/tflearning/notebooks/sample_selector_class_balance.ipynb#X21sdnNjb2RlLXJlbW90ZQ%3D%3D?line=17'>18</a>\u001b[0m dsgen_cf10\u001b[39m.\u001b[39;49mgenerate_dataset()\n",
      "File \u001b[0;32m/system/user/publicwork/beck/projects/regularization/tflearning/tflearning/data/transferdatasets.py:139\u001b[0m, in \u001b[0;36mCifar10Generator.generate_dataset\u001b[0;34m(self)\u001b[0m\n\u001b[1;32m    133\u001b[0m \u001b[39mself\u001b[39m\u001b[39m.\u001b[39mval_dataset \u001b[39m=\u001b[39m datasets\u001b[39m.\u001b[39mCIFAR10(\u001b[39mself\u001b[39m\u001b[39m.\u001b[39mdata_root_path,\n\u001b[1;32m    134\u001b[0m                                     train\u001b[39m=\u001b[39m\u001b[39mFalse\u001b[39;00m,\n\u001b[1;32m    135\u001b[0m                                     download\u001b[39m=\u001b[39m\u001b[39mTrue\u001b[39;00m,\n\u001b[1;32m    136\u001b[0m                                     transform\u001b[39m=\u001b[39m_smaller_imgs_transform(\u001b[39mself\u001b[39m\u001b[39m.\u001b[39mn_px, \u001b[39mFalse\u001b[39;00m, \u001b[39mself\u001b[39m\u001b[39m.\u001b[39mnormalizer))\n\u001b[1;32m    138\u001b[0m \u001b[39mif\u001b[39;00m \u001b[39mself\u001b[39m\u001b[39m.\u001b[39mtrain_sample_selector \u001b[39mis\u001b[39;00m \u001b[39mnot\u001b[39;00m \u001b[39mNone\u001b[39;00m:\n\u001b[0;32m--> 139\u001b[0m     \u001b[39mself\u001b[39m\u001b[39m.\u001b[39mtrain_dataset \u001b[39m=\u001b[39m \u001b[39mself\u001b[39;49m\u001b[39m.\u001b[39;49mtrain_sample_selector(\u001b[39mself\u001b[39;49m\u001b[39m.\u001b[39;49mtrain_dataset)\n\u001b[1;32m    141\u001b[0m \u001b[39mself\u001b[39m\u001b[39m.\u001b[39m_dataset_generated \u001b[39m=\u001b[39m \u001b[39mTrue\u001b[39;00m\n",
      "File \u001b[0;32m/system/user/publicwork/beck/projects/regularization/tflearning/tflearning/data/sample_selectors.py:146\u001b[0m, in \u001b[0;36mPredictionDepthClassBalanceSampleSelector.__call__\u001b[0;34m(self, dataset)\u001b[0m\n\u001b[1;32m    142\u001b[0m \u001b[39melse\u001b[39;00m:\n\u001b[1;32m    143\u001b[0m     LOGGER\u001b[39m.\u001b[39minfo(\n\u001b[1;32m    144\u001b[0m         \u001b[39mf\u001b[39m\u001b[39m\"\u001b[39m\u001b[39mAdded \u001b[39m\u001b[39m{\u001b[39;00mnum_samples_added\u001b[39m}\u001b[39;00m\u001b[39m samples to the subset. (fraction=\u001b[39m\u001b[39m{\u001b[39;00m\u001b[39mself\u001b[39m\u001b[39m.\u001b[39mfraction\u001b[39m}\u001b[39;00m\u001b[39m, restrict_n_samples=\u001b[39m\u001b[39m{\u001b[39;00m\u001b[39mself\u001b[39m\u001b[39m.\u001b[39mrestrict_n_samples\u001b[39m}\u001b[39;00m\u001b[39m\"\u001b[39m\n\u001b[1;32m    145\u001b[0m     )\n\u001b[0;32m--> 146\u001b[0m sample_idxes \u001b[39m=\u001b[39m get_random_subset_idxes(sample_idxes, \u001b[39mself\u001b[39;49m\u001b[39m.\u001b[39;49mrestrict_n_samples)\n\u001b[1;32m    147\u001b[0m \u001b[39mreturn\u001b[39;00m data\u001b[39m.\u001b[39mSubset(dataset, sample_idxes)\n",
      "File \u001b[0;32m/system/user/publicwork/beck/projects/regularization/tflearning/tflearning/data/sample_selectors.py:47\u001b[0m, in \u001b[0;36mget_random_subset_idxes\u001b[0;34m(indices, restrict_n_samples)\u001b[0m\n\u001b[1;32m     43\u001b[0m \u001b[39mif\u001b[39;00m restrict_n_samples \u001b[39m>\u001b[39m \u001b[39m0\u001b[39m:\n\u001b[1;32m     44\u001b[0m     \u001b[39massert\u001b[39;00m restrict_n_samples \u001b[39m<\u001b[39m\u001b[39m=\u001b[39m \u001b[39mlen\u001b[39m(\n\u001b[1;32m     45\u001b[0m         indices\n\u001b[1;32m     46\u001b[0m     ), \u001b[39mf\u001b[39m\u001b[39m\"\u001b[39m\u001b[39mNot enough samples in the datset: restrict_n_samples (\u001b[39m\u001b[39m{\u001b[39;00mrestrict_n_samples\u001b[39m}\u001b[39;00m\u001b[39m) must be smaller than len(indices) (\u001b[39m\u001b[39m{\u001b[39;00m\u001b[39mlen\u001b[39m(indices)\u001b[39m}\u001b[39;00m\u001b[39m). \u001b[39m\u001b[39m\"\u001b[39m\n\u001b[0;32m---> 47\u001b[0m     indices \u001b[39m=\u001b[39m indices[torch\u001b[39m.\u001b[39;49mrandperm(\u001b[39mlen\u001b[39;49m(indices))[:restrict_n_samples]]\n\u001b[1;32m     48\u001b[0m \u001b[39mreturn\u001b[39;00m indices\n",
      "\u001b[0;31mTypeError\u001b[0m: only integer tensors of a single element can be converted to an index"
     ]
    }
   ],
   "source": [
    "data_cfg = \"\"\"\n",
    "data:\n",
    "  name: cifar10\n",
    "  kwargs:\n",
    "    data_root_path: /system/user/beck/pwbeck/data\n",
    "    n_px: 224\n",
    "  sample_selector:\n",
    "    name: prediction_depth_class_balance\n",
    "    kwargs:\n",
    "      fraction: 0.2\n",
    "      pred_results_file: /system/user/beck/pwbeck/projects/regularization/tflearning/outputs_scripts/prediction_depth/PD-cifar10_resnet18-pretrained--230317_124927/prediction_depth_results.p\n",
    "      keep_highest: True\n",
    "      restrict_n_samples: 1000\n",
    "\"\"\"\n",
    "data_cfg = OmegaConf.create(data_cfg)\n",
    "data_cfg = from_dict(data=OmegaConf.to_container(data_cfg.data), data_class=DataConfig)\n",
    "dsgen_cf10 = create_datasetgenerator(data_cfg=data_cfg)\n",
    "dsgen_cf10.generate_dataset()\n",
    "# show_images(dsgen_cf10.train_split, num_images=30, shuffle=True)"
   ]
  },
  {
   "cell_type": "code",
   "execution_count": 5,
   "metadata": {},
   "outputs": [
    {
     "data": {
      "text/plain": [
       "500"
      ]
     },
     "execution_count": 5,
     "metadata": {},
     "output_type": "execute_result"
    }
   ],
   "source": [
    "len(dsgen_cf10.train_split)"
   ]
  },
  {
   "cell_type": "code",
   "execution_count": 6,
   "metadata": {},
   "outputs": [
    {
     "data": {
      "text/plain": [
       "{0: 50, 1: 50, 2: 50, 3: 50, 4: 50, 5: 50, 6: 50, 7: 50, 8: 50, 9: 50}"
      ]
     },
     "execution_count": 6,
     "metadata": {},
     "output_type": "execute_result"
    }
   ],
   "source": [
    "count_samples_per_class(dsgen_cf10.train_split)"
   ]
  },
  {
   "cell_type": "code",
   "execution_count": null,
   "metadata": {},
   "outputs": [],
   "source": []
  }
 ],
 "metadata": {
  "kernelspec": {
   "display_name": "subspaces",
   "language": "python",
   "name": "python3"
  },
  "language_info": {
   "codemirror_mode": {
    "name": "ipython",
    "version": 3
   },
   "file_extension": ".py",
   "mimetype": "text/x-python",
   "name": "python",
   "nbconvert_exporter": "python",
   "pygments_lexer": "ipython3",
   "version": "3.10.4"
  },
  "orig_nbformat": 4
 },
 "nbformat": 4,
 "nbformat_minor": 2
}
