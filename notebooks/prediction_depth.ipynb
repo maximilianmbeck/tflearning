{
 "cells": [
  {
   "cell_type": "code",
   "execution_count": 1,
   "metadata": {},
   "outputs": [],
   "source": [
    "%load_ext autoreload\n",
    "%autoreload 2\n",
    "import torch \n",
    "from torch import nn\n",
    "from omegaconf import OmegaConf\n",
    "import timm\n",
    "from ml_utilities.output_loader.result_loader import JobResult\n",
    "from ml_utilities.data.datasetgenerator import DatasetGenerator\n",
    "from ml_utilities.data.data_utils import show_image_grid\n",
    "from torch.utils import data\n",
    "import numpy as np\n",
    "import matplotlib.pyplot as plt\n",
    "import torch.nn.functional as F\n",
    "from tflearning.sample_difficulty import prediction_depth as pdepth"
   ]
  },
  {
   "cell_type": "code",
   "execution_count": 2,
   "metadata": {},
   "outputs": [
    {
     "data": {
      "text/plain": [
       "JobResult(/system/user/publicwork/beck/projects/regularization/tflearning/outputs/IA-A-cifar10-17.2.2-resnet-B--230204_215821)"
      ]
     },
     "execution_count": 2,
     "metadata": {},
     "output_type": "execute_result"
    }
   ],
   "source": [
    "job_cf10resnet = JobResult('/system/user/beck/pwbeck/projects/regularization/tflearning/outputs/IA-A-cifar10-17.2.2-resnet-B--230204_215821')\n",
    "job_cf10resnet "
   ]
  },
  {
   "cell_type": "code",
   "execution_count": 3,
   "metadata": {},
   "outputs": [
    {
     "name": "stdout",
     "output_type": "stream",
     "text": [
      "dataset: cifar10\n",
      "dataset_kwargs:\n",
      "  data_root_path: /system/user/beck/pwbeck/data\n",
      "dataset_split:\n",
      "  train_val_split: 0.9\n",
      "train_split_transforms:\n",
      "  image_transforms:\n",
      "  - RandomHorizontalFlip\n",
      "  - RandomCrop:\n",
      "      size: 32\n",
      "      padding: 4\n",
      "  tensor_transforms: null\n",
      "  joint_tensor_transforms: null\n",
      "  enable_transforms: true\n",
      "\n"
     ]
    }
   ],
   "source": [
    "print(OmegaConf.to_yaml(job_cf10resnet.config.config.data))"
   ]
  },
  {
   "cell_type": "code",
   "execution_count": 4,
   "metadata": {},
   "outputs": [
    {
     "name": "stdout",
     "output_type": "stream",
     "text": [
      "Files already downloaded and verified\n"
     ]
    }
   ],
   "source": [
    "# create dataset cf10 train split\n",
    "data_cfg = \"\"\"\n",
    "data:\n",
    "  dataset: cifar10\n",
    "  dataset_kwargs:\n",
    "    data_root_path: /system/user/beck/pwbeck/data\n",
    "  dataset_split:\n",
    "    train_val_split: 0.9\n",
    "\"\"\"\n",
    "data_cfg = OmegaConf.create(data_cfg)\n",
    "cf10_ds_gen = DatasetGenerator(**data_cfg.data)\n",
    "cf10_ds_gen.generate_dataset()\n",
    "cf10_train = cf10_ds_gen.train_split\n",
    "cf10_val = cf10_ds_gen.val_split"
   ]
  },
  {
   "cell_type": "code",
   "execution_count": 5,
   "metadata": {},
   "outputs": [],
   "source": [
    "cf10_trainloader = data.DataLoader(cf10_train, batch_size=128, shuffle=False)\n",
    "cf10_valloader = data.DataLoader(cf10_val, batch_size=128, shuffle=False)"
   ]
  },
  {
   "cell_type": "code",
   "execution_count": 6,
   "metadata": {},
   "outputs": [],
   "source": [
    "x, y = next(iter(cf10_trainloader))"
   ]
  },
  {
   "cell_type": "code",
   "execution_count": 7,
   "metadata": {},
   "outputs": [],
   "source": [
    "# show_image_grid(x, normalize=True)"
   ]
  },
  {
   "cell_type": "code",
   "execution_count": 8,
   "metadata": {},
   "outputs": [],
   "source": [
    "myresnet = job_cf10resnet.get_model_idx(-1)"
   ]
  },
  {
   "cell_type": "code",
   "execution_count": 9,
   "metadata": {},
   "outputs": [],
   "source": [
    "layer_names = pdepth.find_layer_names(myresnet, 'act2')\n",
    "layer_names.append('resnet.0.2') # add the last layer (activation) of the first block"
   ]
  },
  {
   "cell_type": "code",
   "execution_count": 10,
   "metadata": {},
   "outputs": [],
   "source": [
    "lfext = pdepth.LayerFeatureExtractor(myresnet, layer_names)\n",
    "lfext = lfext.to('cuda')"
   ]
  },
  {
   "cell_type": "code",
   "execution_count": 11,
   "metadata": {},
   "outputs": [
    {
     "data": {
      "text/plain": [
       "device(type='cuda', index=0)"
      ]
     },
     "execution_count": 11,
     "metadata": {},
     "output_type": "execute_result"
    }
   ],
   "source": [
    "next(iter(lfext.parameters())).device"
   ]
  },
  {
   "cell_type": "code",
   "execution_count": 12,
   "metadata": {},
   "outputs": [],
   "source": [
    "x = x.to('cuda')\n",
    "pred, feats = lfext(x)"
   ]
  },
  {
   "cell_type": "code",
   "execution_count": 13,
   "metadata": {},
   "outputs": [
    {
     "data": {
      "text/plain": [
       "dict_keys(['resnet.0.2', 'resnet.1.0.0.act2', 'resnet.1.0.1.act2', 'resnet.1.0.2.act2', 'resnet.1.1.0.act2', 'resnet.1.1.1.act2', 'resnet.1.1.2.act2', 'resnet.1.2.0.act2', 'resnet.1.2.1.act2', 'resnet.1.2.2.act2', 'softmax_output'])"
      ]
     },
     "execution_count": 13,
     "metadata": {},
     "output_type": "execute_result"
    }
   ],
   "source": [
    "feats.keys()"
   ]
  },
  {
   "cell_type": "code",
   "execution_count": 14,
   "metadata": {},
   "outputs": [
    {
     "name": "stdout",
     "output_type": "stream",
     "text": [
      "resnet.0.2 torch.Size([128, 16, 32, 32])\n",
      "resnet.1.0.0.act2 torch.Size([128, 16, 32, 32])\n",
      "resnet.1.0.1.act2 torch.Size([128, 16, 32, 32])\n",
      "resnet.1.0.2.act2 torch.Size([128, 16, 32, 32])\n",
      "resnet.1.1.0.act2 torch.Size([128, 32, 16, 16])\n",
      "resnet.1.1.1.act2 torch.Size([128, 32, 16, 16])\n",
      "resnet.1.1.2.act2 torch.Size([128, 32, 16, 16])\n",
      "resnet.1.2.0.act2 torch.Size([128, 64, 8, 8])\n",
      "resnet.1.2.1.act2 torch.Size([128, 64, 8, 8])\n",
      "resnet.1.2.2.act2 torch.Size([128, 64, 8, 8])\n",
      "softmax_output torch.Size([128, 10])\n"
     ]
    }
   ],
   "source": [
    "for k, v in feats.items():\n",
    "    print(k, v.shape)"
   ]
  },
  {
   "cell_type": "code",
   "execution_count": 15,
   "metadata": {},
   "outputs": [],
   "source": [
    "timm_resnet = timm.create_model('resnet18', pretrained=False, num_classes=10)"
   ]
  },
  {
   "cell_type": "code",
   "execution_count": 16,
   "metadata": {},
   "outputs": [
    {
     "name": "stdout",
     "output_type": "stream",
     "text": [
      "\n",
      "conv1\n",
      "bn1\n",
      "act1\n",
      "maxpool\n",
      "layer1\n",
      "layer1.0\n",
      "layer1.0.conv1\n",
      "layer1.0.bn1\n",
      "layer1.0.drop_block\n",
      "layer1.0.act1\n",
      "layer1.0.aa\n",
      "layer1.0.conv2\n",
      "layer1.0.bn2\n",
      "layer1.0.act2\n",
      "layer1.1\n",
      "layer1.1.conv1\n",
      "layer1.1.bn1\n",
      "layer1.1.drop_block\n",
      "layer1.1.act1\n",
      "layer1.1.aa\n",
      "layer1.1.conv2\n",
      "layer1.1.bn2\n",
      "layer1.1.act2\n",
      "layer2\n",
      "layer2.0\n",
      "layer2.0.conv1\n",
      "layer2.0.bn1\n",
      "layer2.0.drop_block\n",
      "layer2.0.act1\n",
      "layer2.0.aa\n",
      "layer2.0.conv2\n",
      "layer2.0.bn2\n",
      "layer2.0.act2\n",
      "layer2.0.downsample\n",
      "layer2.0.downsample.0\n",
      "layer2.0.downsample.1\n",
      "layer2.1\n",
      "layer2.1.conv1\n",
      "layer2.1.bn1\n",
      "layer2.1.drop_block\n",
      "layer2.1.act1\n",
      "layer2.1.aa\n",
      "layer2.1.conv2\n",
      "layer2.1.bn2\n",
      "layer2.1.act2\n",
      "layer3\n",
      "layer3.0\n",
      "layer3.0.conv1\n",
      "layer3.0.bn1\n",
      "layer3.0.drop_block\n",
      "layer3.0.act1\n",
      "layer3.0.aa\n",
      "layer3.0.conv2\n",
      "layer3.0.bn2\n",
      "layer3.0.act2\n",
      "layer3.0.downsample\n",
      "layer3.0.downsample.0\n",
      "layer3.0.downsample.1\n",
      "layer3.1\n",
      "layer3.1.conv1\n",
      "layer3.1.bn1\n",
      "layer3.1.drop_block\n",
      "layer3.1.act1\n",
      "layer3.1.aa\n",
      "layer3.1.conv2\n",
      "layer3.1.bn2\n",
      "layer3.1.act2\n",
      "layer4\n",
      "layer4.0\n",
      "layer4.0.conv1\n",
      "layer4.0.bn1\n",
      "layer4.0.drop_block\n",
      "layer4.0.act1\n",
      "layer4.0.aa\n",
      "layer4.0.conv2\n",
      "layer4.0.bn2\n",
      "layer4.0.act2\n",
      "layer4.0.downsample\n",
      "layer4.0.downsample.0\n",
      "layer4.0.downsample.1\n",
      "layer4.1\n",
      "layer4.1.conv1\n",
      "layer4.1.bn1\n",
      "layer4.1.drop_block\n",
      "layer4.1.act1\n",
      "layer4.1.aa\n",
      "layer4.1.conv2\n",
      "layer4.1.bn2\n",
      "layer4.1.act2\n",
      "global_pool\n",
      "global_pool.flatten\n",
      "global_pool.pool\n",
      "fc\n"
     ]
    }
   ],
   "source": [
    "for name, module in timm_resnet.named_modules():\n",
    "    print(name)"
   ]
  },
  {
   "cell_type": "code",
   "execution_count": 17,
   "metadata": {},
   "outputs": [],
   "source": [
    "pred_depth = pdepth.PredictionDepth(myresnet, layer_names, cf10_valloader)"
   ]
  },
  {
   "cell_type": "code",
   "execution_count": 18,
   "metadata": {},
   "outputs": [
    {
     "ename": "AttributeError",
     "evalue": "'list' object has no attribute 'items'",
     "output_type": "error",
     "traceback": [
      "\u001b[0;31m---------------------------------------------------------------------------\u001b[0m",
      "\u001b[0;31mAttributeError\u001b[0m                            Traceback (most recent call last)",
      "\u001b[1;32m/system/user/beck/pwbeck/projects/regularization/tflearning/notebooks/prediction_depth.ipynb Cell 18\u001b[0m in \u001b[0;36m<cell line: 1>\u001b[0;34m()\u001b[0m\n\u001b[0;32m----> <a href='vscode-notebook-cell://ssh-remote%2Bdragonfly/system/user/beck/pwbeck/projects/regularization/tflearning/notebooks/prediction_depth.ipynb#X46sdnNjb2RlLXJlbW90ZQ%3D%3D?line=0'>1</a>\u001b[0m pred_depth\u001b[39m.\u001b[39;49m_extract_features()\n",
      "File \u001b[0;32m/system/user/publicwork/beck/projects/regularization/tflearning/tflearning/sample_difficulty/prediction_depth.py:102\u001b[0m, in \u001b[0;36mPredictionDepth._extract_features\u001b[0;34m(self)\u001b[0m\n\u001b[1;32m     97\u001b[0m     \u001b[39mself\u001b[39m\u001b[39m.\u001b[39mprediction_batches\u001b[39m.\u001b[39mappend(pred\u001b[39m.\u001b[39mdetach()\u001b[39m.\u001b[39mcpu()\u001b[39m.\u001b[39mnumpy())\n\u001b[1;32m     99\u001b[0m \u001b[39m# concatenate the batches\u001b[39;00m\n\u001b[1;32m    100\u001b[0m \u001b[39mself\u001b[39m\u001b[39m.\u001b[39mfeature_batches \u001b[39m=\u001b[39m {\n\u001b[1;32m    101\u001b[0m     key: np\u001b[39m.\u001b[39mconcatenate([batch[key] \u001b[39mfor\u001b[39;00m batch \u001b[39min\u001b[39;00m layer_feature_batches\n\u001b[0;32m--> 102\u001b[0m                         ], axis\u001b[39m=\u001b[39m\u001b[39m0\u001b[39m) \u001b[39mfor\u001b[39;00m key, layer_feature_batches \u001b[39min\u001b[39;00m \u001b[39mself\u001b[39;49m\u001b[39m.\u001b[39;49mfeature_batches\u001b[39m.\u001b[39;49mitems()\n\u001b[1;32m    103\u001b[0m }\n\u001b[1;32m    104\u001b[0m \u001b[39mself\u001b[39m\u001b[39m.\u001b[39mlabel_batches \u001b[39m=\u001b[39m np\u001b[39m.\u001b[39mconcatenate(\u001b[39mself\u001b[39m\u001b[39m.\u001b[39mlabel_batches, axis\u001b[39m=\u001b[39m\u001b[39m0\u001b[39m)\n\u001b[1;32m    105\u001b[0m \u001b[39mself\u001b[39m\u001b[39m.\u001b[39mprediction_batches \u001b[39m=\u001b[39m np\u001b[39m.\u001b[39mconcatenate(\u001b[39mself\u001b[39m\u001b[39m.\u001b[39mprediction_batches, axis\u001b[39m=\u001b[39m\u001b[39m0\u001b[39m)\n",
      "\u001b[0;31mAttributeError\u001b[0m: 'list' object has no attribute 'items'"
     ]
    }
   ],
   "source": [
    "pred_depth._extract_features()"
   ]
  },
  {
   "cell_type": "code",
   "execution_count": 38,
   "metadata": {},
   "outputs": [
    {
     "data": {
      "text/plain": [
       "40"
      ]
     },
     "execution_count": 38,
     "metadata": {},
     "output_type": "execute_result"
    }
   ],
   "source": [
    "len(pred_depth.feature_batches)"
   ]
  },
  {
   "cell_type": "code",
   "execution_count": 39,
   "metadata": {},
   "outputs": [
    {
     "data": {
      "text/plain": [
       "40"
      ]
     },
     "execution_count": 39,
     "metadata": {},
     "output_type": "execute_result"
    }
   ],
   "source": [
    "len(cf10_valloader)"
   ]
  },
  {
   "cell_type": "code",
   "execution_count": 41,
   "metadata": {},
   "outputs": [
    {
     "data": {
      "text/plain": [
       "list"
      ]
     },
     "execution_count": 41,
     "metadata": {},
     "output_type": "execute_result"
    }
   ],
   "source": [
    "type(pred_depth.label_batches)"
   ]
  },
  {
   "cell_type": "code",
   "execution_count": null,
   "metadata": {},
   "outputs": [],
   "source": []
  }
 ],
 "metadata": {
  "kernelspec": {
   "display_name": "subspaces",
   "language": "python",
   "name": "python3"
  },
  "language_info": {
   "codemirror_mode": {
    "name": "ipython",
    "version": 3
   },
   "file_extension": ".py",
   "mimetype": "text/x-python",
   "name": "python",
   "nbconvert_exporter": "python",
   "pygments_lexer": "ipython3",
   "version": "3.10.4"
  },
  "orig_nbformat": 4,
  "vscode": {
   "interpreter": {
    "hash": "ac019f01eb2a0970f066d5e193a84f30bb43215eeeface9d3d8db32241c79700"
   }
  }
 },
 "nbformat": 4,
 "nbformat_minor": 2
}
